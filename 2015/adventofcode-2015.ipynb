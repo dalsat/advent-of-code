{
 "cells": [
  {
   "cell_type": "code",
   "execution_count": 80,
   "id": "constant-diameter",
   "metadata": {},
   "outputs": [],
   "source": [
    "from __future__ import annotations\n",
    "import functools\n",
    "import itertools\n",
    "import re\n",
    "\n",
    "from typing import Union\n"
   ]
  },
  {
   "cell_type": "markdown",
   "id": "awful-procurement",
   "metadata": {},
   "source": [
    "## Utils"
   ]
  },
  {
   "cell_type": "code",
   "execution_count": 81,
   "id": "alpha-particular",
   "metadata": {},
   "outputs": [],
   "source": [
    "# custom types\n",
    "Char = str\n",
    "Dataset = list[str]"
   ]
  },
  {
   "cell_type": "code",
   "execution_count": 82,
   "id": "descending-pendant",
   "metadata": {},
   "outputs": [],
   "source": [
    "input_dir = 'input/'\n",
    "    \n",
    "def input_for(day: int) -> Dataset:\n",
    "    try:\n",
    "        with(open(f'input/day-{day}.txt', 'r')) as file:\n",
    "            return [line.strip() for line in file ]\n",
    "    except FileNotFoundError:\n",
    "        print(f\"Input file for day {day} not found\")\n",
    "        \n",
    "\n",
    "def peek(dataset: Dataset, size: int = 5) -> Union[str, Dataset]:\n",
    "    if len(dataset) > 1:\n",
    "        return dataset[:size]\n",
    "    if len(dataset) == 1:\n",
    "        return dataset[0][:size]\n",
    "    else:\n",
    "        return []\n",
    "\n",
    "def count(elements: list, predicate=bool) -> int:\n",
    "    return sum(1 for each in elements if predicate(each))\n",
    "\n",
    "def any_of(elements: list, predicate=bool) -> bool:\n",
    "    return next((True for elements in elements if predicate(elements)), False)\n",
    "\n",
    "def all_of(elements: list, predicate=bool) -> bool:\n",
    "    return not any_of(elements, lambda x: not predicate(x))\n",
    "\n",
    "log_level = 0\n",
    "def log(message: str, level: int):\n",
    "    if level <= log_level:\n",
    "        print(message)"
   ]
  },
  {
   "cell_type": "markdown",
   "id": "prospective-oxide",
   "metadata": {},
   "source": [
    "## Day 1"
   ]
  },
  {
   "cell_type": "code",
   "execution_count": 83,
   "id": "responsible-tackle",
   "metadata": {},
   "outputs": [
    {
     "data": {
      "text/plain": "'()()('"
     },
     "execution_count": 83,
     "metadata": {},
     "output_type": "execute_result"
    }
   ],
   "source": [
    "# input parsing\n",
    "\n",
    "day1 = input_for(1)[0]\n",
    "peek(day1)"
   ]
  },
  {
   "cell_type": "code",
   "execution_count": 84,
   "id": "valid-consultation",
   "metadata": {},
   "outputs": [
    {
     "data": {
      "text/plain": "280"
     },
     "execution_count": 84,
     "metadata": {},
     "output_type": "execute_result"
    }
   ],
   "source": [
    "# part 1\n",
    "\n",
    "def find_floor(input_values: Dataset) -> int:\n",
    "    floor = 0\n",
    "    for each in input_values:\n",
    "        if each == '(':\n",
    "            floor += 1\n",
    "        elif each == ')':\n",
    "            floor -= 1\n",
    "        else:\n",
    "            print('unknown character ' + each)\n",
    "    return floor\n",
    "\n",
    "find_floor(day1)"
   ]
  },
  {
   "cell_type": "code",
   "execution_count": 85,
   "id": "collaborative-individual",
   "metadata": {},
   "outputs": [
    {
     "data": {
      "text/plain": "1797"
     },
     "execution_count": 85,
     "metadata": {},
     "output_type": "execute_result"
    }
   ],
   "source": [
    "# part 2\n",
    "\n",
    "def find_basement(input_values: Dataset) -> int:\n",
    "    floor = 0\n",
    "    for index, each in enumerate(input_values):\n",
    "        if each == '(': floor += 1\n",
    "        elif each == ')': floor -= 1\n",
    "        else: print('unknown character ' + each)\n",
    "        if floor == -1:\n",
    "            return index + 1\n",
    "\n",
    "find_basement(day1)"
   ]
  },
  {
   "cell_type": "markdown",
   "id": "loving-mexico",
   "metadata": {},
   "source": [
    "## Day 2"
   ]
  },
  {
   "cell_type": "code",
   "execution_count": 86,
   "id": "geographic-slovakia",
   "metadata": {},
   "outputs": [
    {
     "data": {
      "text/plain": "[[20, 3, 11], [15, 27, 5], [6, 29, 7], [30, 15, 9], [19, 29, 21]]"
     },
     "execution_count": 86,
     "metadata": {},
     "output_type": "execute_result"
    }
   ],
   "source": [
    "# input parsing\n",
    "\n",
    "def parse_line(line: str) -> (int, int, int):\n",
    "    return [int(each) for each in line.split('x')]\n",
    "\n",
    "day2 = [parse_line(line) for line in input_for(2)]\n",
    "peek(day2)"
   ]
  },
  {
   "cell_type": "code",
   "execution_count": 87,
   "id": "affecting-slovakia",
   "metadata": {},
   "outputs": [
    {
     "data": {
      "text/plain": "1606483"
     },
     "execution_count": 87,
     "metadata": {},
     "output_type": "execute_result"
    }
   ],
   "source": [
    "# part 1\n",
    "\n",
    "def needed_wrap_for(dimensions: (int, int, int)) -> int:\n",
    "    areas = [first * second for (first, second) in itertools.combinations(dimensions, 2)]\n",
    "    return min(areas) + 2 * sum(areas)\n",
    "\n",
    "def needed_wrap_for_all(input_dataset: list[(int, int, int)]):\n",
    "    return sum(map(needed_wrap_for, input_dataset))\n",
    "\n",
    "needed_wrap_for_all(day2)"
   ]
  },
  {
   "cell_type": "code",
   "execution_count": 88,
   "id": "united-testament",
   "metadata": {},
   "outputs": [
    {
     "data": {
      "text/plain": "3842356"
     },
     "execution_count": 88,
     "metadata": {},
     "output_type": "execute_result"
    }
   ],
   "source": [
    "# part 2\n",
    "\n",
    "def ribbon_length(sizes: (int, int, int)) -> int:\n",
    "    return sum(sorted(sizes)[:2]) * 2\n",
    "\n",
    "def bow_length(sizes: (int, int, int)) -> int:\n",
    "    return sizes[0] * sizes[1] * sizes[2]\n",
    "\n",
    "def ribbon_for_package(sizes: (int, int, int)) -> int:\n",
    "    return ribbon_length(sizes) + bow_length(sizes)\n",
    "\n",
    "def ribbon_for_all_packages(sizes: list[(int, int, int)]) -> int:\n",
    "    return sum(map(ribbon_for_package, sizes))\n",
    "\n",
    "ribbon_for_all_packages(day2)"
   ]
  },
  {
   "cell_type": "markdown",
   "id": "applied-stupid",
   "metadata": {},
   "source": [
    "## Day 3"
   ]
  },
  {
   "cell_type": "code",
   "execution_count": 89,
   "id": "rising-northeast",
   "metadata": {},
   "outputs": [
    {
     "data": {
      "text/plain": "'>^^v^'"
     },
     "execution_count": 89,
     "metadata": {},
     "output_type": "execute_result"
    }
   ],
   "source": [
    "# input parsing\n",
    "\n",
    "day3 = input_for(3)[0]\n",
    "peek(day3)"
   ]
  },
  {
   "cell_type": "code",
   "execution_count": 90,
   "id": "cutting-kinase",
   "metadata": {},
   "outputs": [
    {
     "data": {
      "text/plain": "2592"
     },
     "execution_count": 90,
     "metadata": {},
     "output_type": "execute_result"
    }
   ],
   "source": [
    "# part 1\n",
    "\n",
    "directions = {\n",
    "    '<': (-1, 0),\n",
    "    '>': (1, 0),\n",
    "    '^': (0, 1),\n",
    "    'v': (0, -1)\n",
    "}\n",
    "\n",
    "# def visit_house(instruction):\n",
    "#\n",
    "#         if instruction == '<':\n",
    "#             x -= 1\n",
    "#         elif instruction == '>':\n",
    "#             x += 1\n",
    "#         elif instruction == '^':\n",
    "#             y += 1\n",
    "#         elif instruction == 'v':\n",
    "#             y -= 1\n",
    "#         else:\n",
    "#             print(f'unmatched character {instruction}')\n",
    "\n",
    "def visited_houses(instructions):\n",
    "    \n",
    "    position = (0, 0)\n",
    "    \n",
    "    visited = set()  # starting house\n",
    "    visited.add(position)\n",
    "\n",
    "    for instruction in instructions:\n",
    "        dx, dy = directions[instruction]\n",
    "        position = (position[0] + dx, position[1] + dy)\n",
    "        \n",
    "        visited.add(position)\n",
    "    \n",
    "    return visited\n",
    "\n",
    "len(visited_houses(day3))"
   ]
  },
  {
   "cell_type": "code",
   "execution_count": 91,
   "id": "ideal-edwards",
   "metadata": {},
   "outputs": [
    {
     "data": {
      "text/plain": "2360"
     },
     "execution_count": 91,
     "metadata": {},
     "output_type": "execute_result"
    }
   ],
   "source": [
    "# part 2\n",
    "\n",
    "def parallel_visit(dataset: Dataset) -> set:\n",
    "    return visited_houses(dataset[0::2]).union(visited_houses(dataset[1::2]))\n",
    "\n",
    "len(parallel_visit(day3))"
   ]
  },
  {
   "cell_type": "markdown",
   "id": "thick-message",
   "metadata": {},
   "source": [
    "## Day 4"
   ]
  },
  {
   "cell_type": "code",
   "execution_count": 92,
   "id": "everyday-management",
   "metadata": {},
   "outputs": [],
   "source": [
    "day4 = 'ckczppom'"
   ]
  },
  {
   "cell_type": "code",
   "execution_count": 93,
   "id": "interstate-assault",
   "metadata": {},
   "outputs": [
    {
     "data": {
      "text/plain": "117946"
     },
     "execution_count": 93,
     "metadata": {},
     "output_type": "execute_result"
    }
   ],
   "source": [
    "# part 1\n",
    "\n",
    "from hashlib import md5\n",
    "\n",
    "def hash_miner(key: str, zeros=5) -> int:\n",
    "\n",
    "    bkey = key.encode()\n",
    "    \n",
    "    def hash_for(number: int) -> str:\n",
    "        return md5(bkey + str(number).encode()).hexdigest()\n",
    "\n",
    "    match = ''.join(['0' for _ in range(zeros)])\n",
    "    \n",
    "    for current in itertools.count(0):\n",
    "        if hash_for(current)[:zeros] == match:\n",
    "            return current\n",
    "\n",
    "            \n",
    "hash_miner(day4)"
   ]
  },
  {
   "cell_type": "code",
   "execution_count": 94,
   "id": "european-perception",
   "metadata": {},
   "outputs": [
    {
     "data": {
      "text/plain": "3938038"
     },
     "execution_count": 94,
     "metadata": {},
     "output_type": "execute_result"
    }
   ],
   "source": [
    "# part 2\n",
    "\n",
    "hash_miner(day4, zeros=6)"
   ]
  },
  {
   "cell_type": "markdown",
   "id": "executive-syndication",
   "metadata": {},
   "source": [
    "## Day 5"
   ]
  },
  {
   "cell_type": "code",
   "execution_count": 95,
   "id": "wanted-penguin",
   "metadata": {},
   "outputs": [
    {
     "data": {
      "text/plain": "['zgsnvdmlfuplrubt',\n 'vlhagaovgqjmgvwq',\n 'ffumlmqwfcsyqpss',\n 'zztdcqzqddaazdjp',\n 'eavfzjajkjesnlsb']"
     },
     "execution_count": 95,
     "metadata": {},
     "output_type": "execute_result"
    }
   ],
   "source": [
    "# input parsing\n",
    "\n",
    "day5 = input_for(5)\n",
    "peek(day5)"
   ]
  },
  {
   "cell_type": "code",
   "execution_count": 96,
   "id": "looking-biodiversity",
   "metadata": {},
   "outputs": [
    {
     "data": {
      "text/plain": "238"
     },
     "execution_count": 96,
     "metadata": {},
     "output_type": "execute_result"
    }
   ],
   "source": [
    "# part 1\n",
    "\n",
    "def day5_1(dataset: Dataset):\n",
    "    rules_1 = (  # all the rules must be satisfied\n",
    "        lambda s: len(list(filter(lambda c: c in 'aeiou', s))) >= 3,\n",
    "        lambda s: re.compile(r'(.)\\1').search(s) is not None,\n",
    "        lambda s: next(filter(lambda x: x, (a == b for a, b in list(zip(s,s[1:])))), False),\n",
    "\n",
    "        lambda s: all_of(['ab', 'cd', 'pq', 'xy'], lambda x: x not in s)\n",
    "    )\n",
    "\n",
    "    def validate_string_1(input_value: str) -> bool:\n",
    "        return all_of(rules_1, lambda p: p(input_value))\n",
    "\n",
    "    return count(dataset, validate_string_1)\n",
    "\n",
    "day5_1(day5)"
   ]
  },
  {
   "cell_type": "code",
   "execution_count": 97,
   "id": "quick-cleaners",
   "metadata": {},
   "outputs": [
    {
     "data": {
      "text/plain": "69"
     },
     "execution_count": 97,
     "metadata": {},
     "output_type": "execute_result"
    }
   ],
   "source": [
    "# part 2\n",
    "\n",
    "def day5_2(dataset: Dataset):\n",
    "    rules_2 = (\n",
    "        lambda s: re.compile(r'(.)(.).*\\1\\2').search(s) is not None,\n",
    "        lambda s: re.compile(r'(.).\\1').search(s) is not None\n",
    "    )\n",
    "\n",
    "    def validate_string_2(input_value: str) -> bool:\n",
    "        return all_of(rules_2, lambda p: p(input_value))\n",
    "\n",
    "    def validate_all(dataset: Dataset) -> int:\n",
    "        return count(dataset, validate_string_2)\n",
    "\n",
    "    return validate_all(dataset)\n",
    "\n",
    "day5_2(day5)"
   ]
  },
  {
   "cell_type": "markdown",
   "id": "devoted-performance",
   "metadata": {},
   "source": [
    "## Day 6"
   ]
  },
  {
   "cell_type": "code",
   "execution_count": 98,
   "id": "missing-injection",
   "metadata": {},
   "outputs": [
    {
     "data": {
      "text/plain": "['turn on 489,959 through 759,964',\n 'turn off 820,516 through 871,914',\n 'turn off 427,423 through 929,502',\n 'turn on 774,14 through 977,877',\n 'turn on 410,146 through 864,337']"
     },
     "execution_count": 98,
     "metadata": {},
     "output_type": "execute_result"
    }
   ],
   "source": [
    "# input parsing\n",
    "\n",
    "day6 = input_for(6)\n",
    "peek(day6)"
   ]
  },
  {
   "cell_type": "code",
   "execution_count": 99,
   "id": "theoretical-freight",
   "metadata": {},
   "outputs": [
    {
     "data": {
      "text/plain": "569999"
     },
     "execution_count": 99,
     "metadata": {},
     "output_type": "execute_result"
    }
   ],
   "source": [
    "# part 1\n",
    "\n",
    "# log_level = 0\n",
    "Point = tuple[int, int]\n",
    "\n",
    "def day6_1(instructions: Dataset) -> int:\n",
    "    \n",
    "    lights = {}\n",
    "    \n",
    "    def switch(action: str, start: Point, end: Point):\n",
    "        log(f'action {action} from {start} through {end}', 1)\n",
    "        for x in range(int(start[0]), int(end[0]) + 1):\n",
    "            for y in range(int(start[1]), int(end[1]) + 1):\n",
    "                if action == 'on':\n",
    "                    turn_on(x, y)\n",
    "                elif action == 'off':\n",
    "                    turn_off(x, y)\n",
    "                elif action == 'toggle':\n",
    "                    toggle(x, y)\n",
    "\n",
    "    def turn_on(x: int, y: int):\n",
    "        lights[x, y] = True\n",
    "\n",
    "    def turn_off(x: int, y: int):\n",
    "        if (x, y) in lights:\n",
    "            del lights[x, y]\n",
    "    \n",
    "    def toggle(x: int, y: int):\n",
    "        if (x, y) in lights:\n",
    "            turn_off(x, y)\n",
    "        else:\n",
    "            turn_on(x, y)\n",
    "    \n",
    "    \n",
    "    def parse_instruction(instruction: str):\n",
    "        tokens = instruction.split()\n",
    "        if tokens[0] == 'toggle': switch('toggle', tokens[1].split(','), tokens[3].split(','))\n",
    "        elif tokens[1] == 'on': switch('on', tokens[2].split(','), tokens[4].split(','))\n",
    "        elif tokens[1] == 'off': switch('off', tokens[2].split(','), tokens[4].split(','))\n",
    "        else: print(f'error parsing command: {instruction}')\n",
    "#         print(tokens)\n",
    "    \n",
    "    for instruction in instructions:\n",
    "        parse_instruction(instruction)\n",
    "        log(f'{len(lights)} lights are on', 1)\n",
    "        \n",
    "    return len(lights)\n",
    "\n",
    "day6_1(day6)\n",
    "# list(map(lambda line: line.split(' ')[:2], day6))"
   ]
  },
  {
   "cell_type": "code",
   "execution_count": 100,
   "id": "meaningful-mouse",
   "metadata": {},
   "outputs": [
    {
     "data": {
      "text/plain": "17836115"
     },
     "execution_count": 100,
     "metadata": {},
     "output_type": "execute_result"
    }
   ],
   "source": [
    "# part 2\n",
    "\n",
    "def day6_2(instructions: Dataset) -> int:\n",
    "    \n",
    "    lights = {}\n",
    "    \n",
    "    def switch(action: str, start: Point, end: Point):\n",
    "        log(f'action {action} from {start} through {end}', 1)\n",
    "        for x in range(int(start[0]), int(end[0]) + 1):\n",
    "            for y in range(int(start[1]), int(end[1]) + 1):\n",
    "                if action == 'on':\n",
    "                    turn_on(x, y)\n",
    "                elif action == 'off':\n",
    "                    turn_off(x, y)\n",
    "                elif action == 'toggle':\n",
    "                    toggle(x, y)\n",
    "\n",
    "    def turn_on(x: int, y: int):\n",
    "        lights[x, y] = lights.get((x, y), 0) + 1\n",
    "\n",
    "    def turn_off(x: int, y: int):\n",
    "        lights[x, y] = max(0, lights.get((x, y), 0) - 1)\n",
    "\n",
    "    def toggle(x: int, y: int):\n",
    "        lights[x, y] = lights.get((x, y), 0) + 2\n",
    "    \n",
    "    \n",
    "    def parse_instruction(instruction: str):\n",
    "        tokens = instruction.split()\n",
    "        if tokens[0] == 'toggle': switch('toggle', tokens[1].split(','), tokens[3].split(','))\n",
    "        elif tokens[1] == 'on': switch('on', tokens[2].split(','), tokens[4].split(','))\n",
    "        elif tokens[1] == 'off': switch('off', tokens[2].split(','), tokens[4].split(','))\n",
    "        else: print(f'error parsing command: {instruction}')\n",
    "    \n",
    "    for instruction in instructions:\n",
    "        parse_instruction(instruction)\n",
    "        log(f'{len(lights)} lights are on', 1)\n",
    "        \n",
    "    return sum(lights.values())\n",
    "\n",
    "day6_2(day6)"
   ]
  },
  {
   "cell_type": "markdown",
   "id": "fifth-chicago",
   "metadata": {},
   "source": [
    "# Day 7"
   ]
  },
  {
   "cell_type": "code",
   "execution_count": 101,
   "id": "younger-russian",
   "metadata": {},
   "outputs": [
    {
     "data": {
      "text/plain": "['lf AND lq -> ls',\n 'iu RSHIFT 1 -> jn',\n 'bo OR bu -> bv',\n 'gj RSHIFT 1 -> hc',\n 'et RSHIFT 2 -> eu']"
     },
     "execution_count": 101,
     "metadata": {},
     "output_type": "execute_result"
    }
   ],
   "source": [
    "# input parsing\n",
    "\n",
    "day7 = input_for(7)\n",
    "peek(day7)"
   ]
  },
  {
   "cell_type": "code",
   "execution_count": 102,
   "id": "concrete-compromise",
   "metadata": {},
   "outputs": [
    {
     "name": "stdout",
     "output_type": "stream",
     "text": [
      "{'c': 0, 't': 0, 'b': 19138, 'd': 4784, 'e': 2392, 'f': 598, 'g': 2910, 'h': 80, 'i': 65455, 'j': 2830, 'k': 7102, 'l': 512, 'm': 65023, 'n': 6590, 'o': 23550, 'p': 2178, 'q': 63357, 'r': 21372, 's': 0, 'u': 0, 'ao': 0, 'v': 9569, 'w': 0, 'x': 9569, 'y': 2392, 'z': 1196, 'aa': 299, 'ab': 1455, 'ac': 40, 'ad': 65495, 'ae': 1415, 'af': 3551, 'ag': 256, 'ah': 65279, 'ai': 3295, 'aj': 11775, 'ak': 1089, 'al': 64446, 'am': 10686, 'an': 0, 'ap': 0, 'bj': 0, 'aq': 4784, 'ar': 0, 'as': 4784, 'at': 1196, 'au': 598, 'av': 149, 'aw': 727, 'ax': 20, 'ay': 65515, 'az': 707, 'ba': 1775, 'bb': 128, 'bc': 65407, 'bd': 1647, 'be': 5887, 'bf': 544, 'bg': 64991, 'bh': 5343, 'bi': 1, 'bk': 1, 'ce': 2, 'bl': 2392, 'bm': 32768, 'bn': 35160, 'bo': 8790, 'bp': 4395, 'bq': 1098, 'br': 5483, 'bs': 10, 'bt': 65525, 'bu': 5473, 'bv': 14199, 'bw': 64, 'bx': 65471, 'by': 14135, 'bz': 49023, 'ca': 272, 'cb': 65263, 'cc': 48751, 'cd': 1, 'cf': 3, 'cz': 6, 'cg': 17580, 'ch': 32768, 'ci': 50348, 'cj': 12587, 'ck': 6293, 'cl': 1573, 'cm': 7861, 'cn': 5, 'co': 65530, 'cp': 7856, 'cq': 16315, 'cr': 4128, 'cs': 61407, 'ct': 12187, 'cu': 61375, 'cv': 1160, 'cw': 64375, 'cx': 60215, 'cy': 1, 'da': 7, 'du': 14, 'db': 25174, 'dc': 32768, 'dd': 57942, 'de': 14485, 'df': 7242, 'dg': 1810, 'dh': 8026, 'di': 1026, 'dj': 64509, 'dk': 7000, 'dl': 15325, 'dm': 6160, 'dn': 59375, 'do': 9165, 'dp': 58335, 'dq': 8772, 'dr': 56763, 'ds': 49563, 'dt': 1, 'dv': 15, 'ep': 30, 'dw': 28971, 'dx': 32768, 'dy': 61739, 'dz': 15434, 'ea': 7717, 'eb': 1929, 'ec': 8109, 'ed': 1537, 'ee': 63998, 'ef': 6572, 'eg': 15854, 'eh': 6152, 'ei': 59383, 'ej': 9702, 'ek': 62959, 'el': 8482, 'em': 57053, 'en': 54477, 'eo': 1, 'eq': 31, 'fk': 62, 'er': 30869, 'es': 32768, 'et': 63637, 'eu': 15909, 'ev': 7954, 'ew': 1988, 'ex': 8150, 'ey': 1792, 'ez': 63743, 'fa': 6358, 'fb': 16119, 'fc': 6148, 'fd': 59387, 'fe': 9971, 'ff': 65271, 'fg': 8337, 'fh': 57198, 'fi': 56934, 'fj': 0, 'fl': 62, 'gf': 124, 'fm': 31818, 'fn': 0, 'fo': 31818, 'fp': 7954, 'fq': 3977, 'fr': 994, 'fs': 4075, 'ft': 896, 'fu': 64639, 'fv': 3179, 'fw': 8059, 'fx': 3074, 'fy': 62461, 'fz': 4985, 'ga': 32635, 'gb': 4168, 'gc': 61367, 'gd': 28467, 'ge': 1, 'gg': 125, 'ha': 250, 'gh': 15909, 'gi': 32768, 'gj': 48677, 'gk': 12169, 'gl': 6084, 'gm': 1521, 'gn': 6133, 'go': 1472, 'gp': 64063, 'gq': 4661, 'gr': 16317, 'gs': 513, 'gt': 65022, 'gu': 15804, 'gv': 49085, 'gw': 15396, 'gx': 50139, 'gy': 33689, 'gz': 1, 'hb': 251, 'hv': 502, 'hc': 24338, 'hd': 32768, 'he': 57106, 'hf': 14276, 'hg': 7138, 'hh': 1784, 'hi': 8186, 'hj': 736, 'hk': 64799, 'hl': 7450, 'hm': 16350, 'hn': 5376, 'ho': 60159, 'hp': 10974, 'hq': 65502, 'hr': 2578, 'hs': 62957, 'ht': 62924, 'hu': 0, 'hw': 502, 'iq': 1004, 'hx': 28553, 'hy': 0, 'hz': 28553, 'ia': 7138, 'ib': 3569, 'ic': 892, 'id': 4093, 'ie': 368, 'if': 65167, 'ig': 3725, 'ih': 8175, 'ii': 2688, 'ij': 62847, 'ik': 5487, 'il': 32751, 'im': 1289, 'in': 64246, 'io': 31462, 'ip': 0, 'ir': 1004, 'jl': 2008, 'is': 14276, 'it': 0, 'iu': 14276, 'iv': 3569, 'iw': 1784, 'ix': 446, 'iy': 2046, 'iz': 184, 'ja': 65351, 'jb': 1862, 'jc': 4087, 'jd': 1344, 'je': 64191, 'jf': 2743, 'jg': 16375, 'jh': 644, 'ji': 64891, 'jj': 15731, 'jk': 1, 'jm': 2009, 'kg': 4018, 'jn': 7138, 'jo': 32768, 'jp': 39906, 'jq': 9976, 'jr': 4988, 'js': 1247, 'jt': 6143, 'ju': 92, 'jv': 65443, 'jw': 6051, 'jx': 14331, 'jy': 1696, 'jz': 63839, 'ka': 12635, 'kb': 48123, 'kc': 4418, 'kd': 61117, 'ke': 43705, 'kf': 1, 'kh': 4019, 'lb': 8038, 'ki': 19953, 'kj': 32768, 'kk': 52721, 'kl': 13180, 'km': 6590, 'kn': 1647, 'ko': 8191, 'kp': 46, 'kq': 65489, 'kr': 8145, 'ks': 16381, 'kt': 4944, 'ku': 60591, 'kv': 11437, 'kw': 60925, 'kx': 3233, 'ky': 62302, 'kz': 57692, 'la': 0, 'lc': 8038, 'lw': 16076, 'ld': 26360, 'le': 0, 'lf': 26360, 'lg': 6590, 'lh': 3295, 'li': 823, 'lj': 4095, 'lk': 23, 'll': 65512, 'lm': 4072, 'ln': 8190, 'lo': 2472, 'lp': 63063, 'lq': 5718, 'lr': 30462, 'ls': 1616, 'lt': 63919, 'lu': 28846, 'lv': 0, 'lx': 16076}\n"
     ]
    },
    {
     "data": {
      "text/plain": "16076"
     },
     "execution_count": 102,
     "metadata": {},
     "output_type": "execute_result"
    }
   ],
   "source": [
    "# part 1\n",
    "\n",
    "def day7_1(dataset: Dataset, target='a', rewrite=False):\n",
    "\n",
    "    graph = {}\n",
    "    memo = {}\n",
    "\n",
    "    def var(name: str) -> callable:\n",
    "        if name not in memo:\n",
    "            memo[name] = graph[name]()\n",
    "\n",
    "        return memo[name]\n",
    "\n",
    "    def expr(expr: str) -> callable:\n",
    "        if expr.isdigit():\n",
    "            return lambda: int(expr)\n",
    "        else:\n",
    "            return lambda: var(expr)\n",
    "\n",
    "    def build_graph(instructions: Dataset):\n",
    "        for instruction in instructions:\n",
    "            parse_line(instruction)\n",
    "\n",
    "    def parse_line(instruction: str):\n",
    "        left, right = instruction.split(' -> ')\n",
    "        if not rewrite:\n",
    "            assert right not in graph  # only one definition for variable\n",
    "        graph[right] = parse_instruction(left)\n",
    "\n",
    "    def parse_instruction(instruction: str) -> callable:\n",
    "        tokens = instruction.split()\n",
    "        if len(tokens) == 1:  # 123 -> x\n",
    "            return expr(tokens[0])\n",
    "\n",
    "        if len(tokens) == 2 and tokens[0] == 'NOT':  # NOT e -> f\n",
    "            return lambda: 65_535 ^ var(tokens[1])  # negate all the 16 bits\n",
    "\n",
    "        elif len(tokens) == 3:\n",
    "            left = expr(tokens[0])\n",
    "            operator = tokens[1]\n",
    "            right = expr(tokens[2])\n",
    "            if operator == 'AND':  # x AND y -> z\n",
    "                return lambda: left() & right()\n",
    "            elif operator == 'OR':  # x OR y -> z\n",
    "                return lambda: left() | right()\n",
    "            elif operator == 'LSHIFT':  # x OR y -> z\n",
    "                return lambda: left() << right()\n",
    "            elif operator == 'RSHIFT':  # x OR y -> z\n",
    "                return lambda: left() >> right()\n",
    "\n",
    "        else:\n",
    "            print(f'error parsing instruction: {instruction}')\n",
    "\n",
    "    build_graph(dataset)\n",
    "    result = graph[target]()\n",
    "    print(memo)\n",
    "\n",
    "    return result\n",
    "\n",
    "\n",
    "day7_1(day7)"
   ]
  },
  {
   "cell_type": "code",
   "execution_count": 103,
   "outputs": [
    {
     "name": "stdout",
     "output_type": "stream",
     "text": [
      "{'c': 0, 't': 0, 'b': 16076, 'd': 4019, 'e': 2009, 'f': 502, 'g': 2047, 'h': 464, 'i': 65071, 'j': 1583, 'k': 4031, 'l': 1571, 'm': 63964, 'n': 2460, 'o': 16348, 'p': 2188, 'q': 63347, 'r': 14160, 's': 0, 'u': 0, 'ao': 0, 'v': 8038, 'w': 0, 'x': 8038, 'y': 2009, 'z': 1004, 'aa': 251, 'ab': 1023, 'ac': 232, 'ad': 65303, 'ae': 791, 'af': 2015, 'ag': 785, 'ah': 64750, 'ai': 1230, 'aj': 8174, 'ak': 1094, 'al': 64441, 'am': 7080, 'an': 0, 'ap': 0, 'bj': 0, 'aq': 4019, 'ar': 0, 'as': 4019, 'at': 1004, 'au': 502, 'av': 125, 'aw': 511, 'ax': 116, 'ay': 65419, 'az': 395, 'ba': 1007, 'bb': 392, 'bc': 65143, 'bd': 615, 'be': 4087, 'bf': 547, 'bg': 64988, 'bh': 3540, 'bi': 0, 'bk': 0, 'ce': 0, 'bl': 2009, 'bm': 0, 'bn': 2009, 'bo': 502, 'bp': 251, 'bq': 62, 'br': 255, 'bs': 58, 'bt': 65477, 'bu': 197, 'bv': 503, 'bw': 196, 'bx': 65339, 'by': 307, 'bz': 2043, 'ca': 273, 'cb': 65262, 'cc': 1770, 'cd': 0, 'cf': 0, 'cz': 0, 'cg': 1004, 'ch': 0, 'ci': 1004, 'cj': 251, 'ck': 125, 'cl': 31, 'cm': 127, 'cn': 29, 'co': 65506, 'cp': 98, 'cq': 251, 'cr': 98, 'cs': 65437, 'ct': 153, 'cu': 1021, 'cv': 136, 'cw': 65399, 'cx': 885, 'cy': 1, 'da': 1, 'du': 2, 'db': 502, 'dc': 32768, 'dd': 33270, 'de': 8317, 'df': 4158, 'dg': 1039, 'dh': 5183, 'di': 14, 'dj': 65521, 'dk': 5169, 'dl': 13437, 'dm': 49, 'dn': 65486, 'do': 13388, 'dp': 46590, 'dq': 68, 'dr': 65467, 'ds': 46522, 'dt': 0, 'dv': 2, 'ep': 4, 'dw': 16635, 'dx': 0, 'dy': 16635, 'dz': 4158, 'ea': 2079, 'eb': 519, 'ec': 2591, 'ed': 7, 'ee': 65528, 'ef': 2584, 'eg': 6718, 'eh': 24, 'ei': 65511, 'ej': 6694, 'ek': 23295, 'el': 34, 'em': 65501, 'en': 23261, 'eo': 1, 'eq': 5, 'fk': 10, 'er': 8317, 'es': 32768, 'et': 41085, 'eu': 10271, 'ev': 5135, 'ew': 1283, 'ex': 5391, 'ey': 1027, 'ez': 64508, 'fa': 4364, 'fb': 14623, 'fc': 12, 'fd': 65523, 'fe': 14611, 'ff': 47487, 'fg': 8209, 'fh': 57326, 'fi': 39278, 'fj': 0, 'fl': 10, 'gf': 20, 'fm': 20542, 'fn': 0, 'fo': 20542, 'fp': 5135, 'fq': 2567, 'fr': 641, 'fs': 2695, 'ft': 513, 'fu': 65022, 'fv': 2182, 'fw': 7311, 'fx': 6, 'fy': 65529, 'fz': 7305, 'ga': 23743, 'gb': 4104, 'gc': 61431, 'gd': 19639, 'ge': 1, 'gg': 21, 'ha': 42, 'gh': 10271, 'gi': 32768, 'gj': 43039, 'gk': 10759, 'gl': 5379, 'gm': 1344, 'gn': 5443, 'go': 1280, 'gp': 64255, 'gq': 4163, 'gr': 14919, 'gs': 3, 'gt': 65532, 'gu': 14916, 'gv': 47711, 'gw': 10244, 'gx': 55291, 'gy': 37467, 'gz': 1, 'hb': 43, 'hv': 86, 'hc': 21519, 'hd': 32768, 'he': 54287, 'hf': 13571, 'hg': 6785, 'hh': 1696, 'hi': 7841, 'hj': 640, 'hk': 64895, 'hl': 7201, 'hm': 15651, 'hn': 5121, 'ho': 60414, 'hp': 10530, 'hq': 64815, 'hr': 2, 'hs': 65533, 'ht': 64813, 'hu': 1, 'hw': 87, 'iq': 174, 'hx': 27143, 'hy': 32768, 'hz': 59911, 'ia': 14977, 'ib': 7488, 'ic': 1872, 'id': 8016, 'ie': 1344, 'if': 64191, 'ig': 6672, 'ih': 14993, 'ii': 6656, 'ij': 58879, 'ik': 8337, 'il': 60055, 'im': 8193, 'in': 57342, 'io': 51862, 'ip': 0, 'ir': 174, 'jl': 348, 'is': 29955, 'it': 0, 'iu': 29955, 'iv': 7488, 'iw': 3744, 'ix': 936, 'iy': 4008, 'iz': 672, 'ja': 64863, 'jb': 3336, 'jc': 7496, 'jd': 3328, 'je': 62207, 'jf': 4168, 'jg': 30027, 'jh': 4096, 'ji': 61439, 'jj': 25931, 'jk': 1, 'jm': 349, 'kg': 698, 'jn': 14977, 'jo': 32768, 'jp': 47745, 'jq': 11936, 'jr': 5968, 'js': 1492, 'jt': 6100, 'ju': 1360, 'jv': 64175, 'jw': 4740, 'jx': 16036, 'jy': 640, 'jz': 64895, 'ka': 15396, 'kb': 48805, 'kc': 14336, 'kd': 51199, 'ke': 34469, 'kf': 1, 'kh': 699, 'lb': 1398, 'ki': 23872, 'kj': 32768, 'kk': 56640, 'kl': 14160, 'km': 7080, 'kn': 1770, 'ko': 8170, 'kp': 680, 'kq': 64855, 'kr': 7490, 'ks': 16210, 'kt': 5440, 'ku': 60095, 'kv': 10770, 'kw': 65362, 'kx': 2048, 'ky': 63487, 'kz': 63314, 'la': 0, 'lc': 1398, 'lw': 2796, 'ld': 28320, 'le': 0, 'lf': 28320, 'lg': 7080, 'lh': 3540, 'li': 885, 'lj': 4085, 'lk': 340, 'll': 65195, 'lm': 3745, 'ln': 8105, 'lo': 2720, 'lp': 62815, 'lq': 5385, 'lr': 32681, 'ls': 1024, 'lt': 64511, 'lu': 31657, 'lv': 1, 'lx': 2797}\n"
     ]
    },
    {
     "data": {
      "text/plain": "2797"
     },
     "execution_count": 103,
     "metadata": {},
     "output_type": "execute_result"
    }
   ],
   "source": [
    "# part 2\n",
    "\n",
    "def day7_2(dataset: Dataset, target: str = 'a') -> int:\n",
    "    return day7_1(dataset, target=target, rewrite=True)\n",
    "\n",
    "day7_2(day7 + ['16076 -> b'])"
   ],
   "metadata": {
    "collapsed": false,
    "pycharm": {
     "name": "#%%\n"
    }
   }
  },
  {
   "cell_type": "code",
   "execution_count": 104,
   "outputs": [
    {
     "data": {
      "text/plain": "['\"qxfcsmh\"',\n '\"ffsfyxbyuhqkpwatkjgudo\"',\n '\"byc\\\\x9dyxuafof\\\\\\\\\\\\xa6uf\\\\\\\\axfozomj\\\\\\\\olh\\\\x6a\"',\n '\"jtqvz\"',\n '\"uzezxa\\\\\"jgbmojtwyfbfguz\"']"
     },
     "execution_count": 104,
     "metadata": {},
     "output_type": "execute_result"
    }
   ],
   "source": [
    "# input parsing\n",
    "\n",
    "day8 = input_for(8)\n",
    "peek(day8)"
   ],
   "metadata": {
    "collapsed": false,
    "pycharm": {
     "name": "#%%\n"
    }
   }
  },
  {
   "cell_type": "code",
   "execution_count": 107,
   "outputs": [
    {
     "data": {
      "text/plain": "1350"
     },
     "execution_count": 107,
     "metadata": {},
     "output_type": "execute_result"
    }
   ],
   "source": [
    "# part 1\n",
    "def memory(line: str, replace_rules):\n",
    "    return functools.reduce(lambda s, rule: re.sub(rule[0], rule[1], s),\n",
    "                                replace_rules.items(), line)\n",
    "\n",
    "\n",
    "def day8_1(dataset: Dataset):\n",
    "\n",
    "    replace_rules = {  # dictionaries are now sorted in python\n",
    "        r'\\\\x[0-9a-f]{2}': 'U',\n",
    "        r'\\\\[\\\\\"]': 'E',\n",
    "        r'\"': ''\n",
    "    }\n",
    "\n",
    "    def diff(line: str) -> int:\n",
    "        encoded = memory(line, replace_rules)\n",
    "        # print(f'{line} -> {encoded} — {len(line)}, {len(encoded)}')\n",
    "        return len(line) - len(encoded)\n",
    "\n",
    "    return sum(map(diff, dataset))\n",
    "\n",
    "\n",
    "day8_1(day8)"
   ],
   "metadata": {
    "collapsed": false,
    "pycharm": {
     "name": "#%%\n"
    }
   }
  },
  {
   "cell_type": "code",
   "execution_count": 108,
   "outputs": [
    {
     "data": {
      "text/plain": "2085"
     },
     "execution_count": 108,
     "metadata": {},
     "output_type": "execute_result"
    }
   ],
   "source": [
    "def day8_2(dataset: Dataset) -> int:\n",
    "\n",
    "    replace_rules = {\n",
    "        r'\\\\x[0-9a-f]{2}': r'UUxUU',\n",
    "        r'\\\\[\\\\\"]': 'EEEE',\n",
    "        r'\"': r'\\\"'\n",
    "    }\n",
    "\n",
    "    def diff(line: str) -> int:\n",
    "        encoded = \"\\\"\" + memory(line, replace_rules) + \"\\\"\"\n",
    "        # print(f'{line} -> {encoded} — {len(line)}, {len(encoded)}')\n",
    "        return len(encoded) - len(line)\n",
    "\n",
    "    return sum(map(diff, dataset))\n",
    "\n",
    "\n",
    "day8_2(day8)"
   ],
   "metadata": {
    "collapsed": false,
    "pycharm": {
     "name": "#%%\n"
    }
   }
  },
  {
   "cell_type": "code",
   "execution_count": 106,
   "outputs": [],
   "source": [],
   "metadata": {
    "collapsed": false,
    "pycharm": {
     "name": "#%%\n"
    }
   }
  },
  {
   "cell_type": "code",
   "execution_count": 106,
   "outputs": [],
   "source": [],
   "metadata": {
    "collapsed": false,
    "pycharm": {
     "name": "#%%\n"
    }
   }
  },
  {
   "cell_type": "code",
   "execution_count": 106,
   "outputs": [],
   "source": [],
   "metadata": {
    "collapsed": false,
    "pycharm": {
     "name": "#%%\n"
    }
   }
  }
 ],
 "metadata": {
  "kernelspec": {
   "display_name": "Python 3",
   "language": "python",
   "name": "python3"
  },
  "language_info": {
   "codemirror_mode": {
    "name": "ipython",
    "version": 3
   },
   "file_extension": ".py",
   "mimetype": "text/x-python",
   "name": "python",
   "nbconvert_exporter": "python",
   "pygments_lexer": "ipython3",
   "version": "3.9.1"
  }
 },
 "nbformat": 4,
 "nbformat_minor": 5
}