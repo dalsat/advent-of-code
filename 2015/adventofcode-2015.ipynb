{
 "cells": [
  {
   "cell_type": "code",
   "execution_count": 1,
   "id": "western-mercy",
   "metadata": {},
   "outputs": [],
   "source": [
    "import itertools\n",
    "import re\n",
    "\n",
    "from __future__ import annotations"
   ]
  },
  {
   "cell_type": "markdown",
   "id": "dramatic-journal",
   "metadata": {},
   "source": [
    "## Utils"
   ]
  },
  {
   "cell_type": "code",
   "execution_count": 2,
   "id": "armed-tracy",
   "metadata": {},
   "outputs": [],
   "source": [
    "# custom types\n",
    "Char = str\n",
    "Dataset = list[str]"
   ]
  },
  {
   "cell_type": "code",
   "execution_count": 3,
   "id": "meaningful-calibration",
   "metadata": {},
   "outputs": [],
   "source": [
    "input_dir = 'input/'\n",
    "    \n",
    "def input_for(day: int) -> Dataset:\n",
    "    try:\n",
    "        with(open(f'input/day-{day}.txt', 'r') as file):\n",
    "            return [line.strip() for line in file ]\n",
    "    except FileNotFoundError as e:\n",
    "        print(f\"Input file for day {day} not found\")\n",
    "        \n",
    "\n",
    "def peek(dataset: Dataset, size: int = 5) -> Dataset:\n",
    "    if len(dataset) > 1:\n",
    "        return dataset[:size]\n",
    "    if len(dataset) == 1:\n",
    "        return dataset[0][:size]\n",
    "    else:\n",
    "        []\n",
    "\n",
    "def count(elements: List, predicate=bool) -> int:\n",
    "    return sum(1 for each in elements if predicate(each))\n",
    "\n",
    "def any_of(elements: List, predicate=bool) -> bool:\n",
    "    return next((True for elements in elements if predicate(elements)), False)\n",
    "\n",
    "def all_of(elements: List, predicate=bool) -> bool:\n",
    "    return not any_of(elements, lambda x: not predicate(x))\n",
    "\n",
    "log_level = 0\n",
    "def log(message: str, level: int):\n",
    "    if level <= log_level:\n",
    "        print(message)"
   ]
  },
  {
   "cell_type": "markdown",
   "id": "sensitive-contrast",
   "metadata": {},
   "source": [
    "## Day 1"
   ]
  },
  {
   "cell_type": "code",
   "execution_count": 4,
   "id": "laughing-gabriel",
   "metadata": {},
   "outputs": [
    {
     "data": {
      "text/plain": [
       "'()()('"
      ]
     },
     "execution_count": 4,
     "metadata": {},
     "output_type": "execute_result"
    }
   ],
   "source": [
    "# input parsing\n",
    "\n",
    "day1 = input_for(1)[0]\n",
    "peek(day1)"
   ]
  },
  {
   "cell_type": "code",
   "execution_count": 5,
   "id": "vulnerable-hydrogen",
   "metadata": {},
   "outputs": [
    {
     "data": {
      "text/plain": [
       "280"
      ]
     },
     "execution_count": 5,
     "metadata": {},
     "output_type": "execute_result"
    }
   ],
   "source": [
    "# part 1\n",
    "\n",
    "def find_floor(input: list[str]) -> int:\n",
    "    floor = 0\n",
    "    for each in input:\n",
    "        if each == '(':\n",
    "            floor += 1\n",
    "        elif each == ')':\n",
    "            floor -= 1\n",
    "        else:\n",
    "            print('unknown character ' + each)\n",
    "    return floor\n",
    "\n",
    "find_floor(day1)"
   ]
  },
  {
   "cell_type": "code",
   "execution_count": 6,
   "id": "sought-evanescence",
   "metadata": {},
   "outputs": [
    {
     "data": {
      "text/plain": [
       "1797"
      ]
     },
     "execution_count": 6,
     "metadata": {},
     "output_type": "execute_result"
    }
   ],
   "source": [
    "# part 2\n",
    "\n",
    "def find_basement(input: list[str]) -> int:\n",
    "    floor = 0\n",
    "    for index, each in enumerate(input):\n",
    "        if each == '(': floor += 1\n",
    "        elif each == ')': floor -= 1\n",
    "        else: print('unknown character ' + each)\n",
    "        if floor == -1:\n",
    "            return index + 1\n",
    "\n",
    "find_basement(day1)"
   ]
  },
  {
   "cell_type": "markdown",
   "id": "controlling-protocol",
   "metadata": {},
   "source": [
    "## Day 2"
   ]
  },
  {
   "cell_type": "code",
   "execution_count": 7,
   "id": "sporting-house",
   "metadata": {},
   "outputs": [
    {
     "data": {
      "text/plain": [
       "[[20, 3, 11], [15, 27, 5], [6, 29, 7], [30, 15, 9], [19, 29, 21]]"
      ]
     },
     "execution_count": 7,
     "metadata": {},
     "output_type": "execute_result"
    }
   ],
   "source": [
    "# input parsing\n",
    "\n",
    "def parse_line(line: str) -> (int, int, int):\n",
    "    return [int(each) for each in line.split('x')]\n",
    "\n",
    "day2 = [parse_line(line) for line in input_for(2)]\n",
    "peek(day2)"
   ]
  },
  {
   "cell_type": "code",
   "execution_count": 8,
   "id": "extra-campus",
   "metadata": {},
   "outputs": [
    {
     "data": {
      "text/plain": [
       "1606483"
      ]
     },
     "execution_count": 8,
     "metadata": {},
     "output_type": "execute_result"
    }
   ],
   "source": [
    "# part 1\n",
    "\n",
    "def needed_wrap_for(dimensions: (int, int, int)) -> int:\n",
    "    areas = [first * second for (first, second) in itertools.combinations(dimensions, 2)]\n",
    "    return min(areas) + 2 * sum(areas)\n",
    "\n",
    "def needed_wrap_for_all(input_dataset: list[(int, int, int)]):\n",
    "    return sum(map(needed_wrap_for, input_dataset))\n",
    "\n",
    "needed_wrap_for_all(day2)"
   ]
  },
  {
   "cell_type": "code",
   "execution_count": 9,
   "id": "affected-employment",
   "metadata": {},
   "outputs": [
    {
     "data": {
      "text/plain": [
       "3842356"
      ]
     },
     "execution_count": 9,
     "metadata": {},
     "output_type": "execute_result"
    }
   ],
   "source": [
    "# part 2\n",
    "\n",
    "def ribbon_length(sizes: (int, int, int)) -> int:\n",
    "    return sum(sorted(sizes)[:2]) * 2\n",
    "\n",
    "def bow_length(sizes: (int, int, int)) -> int:\n",
    "    return sizes[0] * sizes[1] * sizes[2]\n",
    "\n",
    "def ribbon_for_package(sizes: (int, int, int)) -> int:\n",
    "    return ribbon_length(sizes) + bow_length(sizes)\n",
    "\n",
    "def ribbon_for_all_packages(sizes: list[(int, int, int)]) -> int:\n",
    "    return sum(map(ribbon_for_package, sizes))\n",
    "\n",
    "ribbon_for_all_packages(day2)"
   ]
  },
  {
   "cell_type": "markdown",
   "id": "assured-forge",
   "metadata": {},
   "source": [
    "## Day 3"
   ]
  },
  {
   "cell_type": "code",
   "execution_count": 10,
   "id": "communist-jewel",
   "metadata": {},
   "outputs": [
    {
     "data": {
      "text/plain": [
       "'>^^v^'"
      ]
     },
     "execution_count": 10,
     "metadata": {},
     "output_type": "execute_result"
    }
   ],
   "source": [
    "# input parsing\n",
    "\n",
    "day3 = input_for(3)[0]\n",
    "peek(day3)"
   ]
  },
  {
   "cell_type": "code",
   "execution_count": 11,
   "id": "royal-accused",
   "metadata": {},
   "outputs": [
    {
     "data": {
      "text/plain": [
       "2592"
      ]
     },
     "execution_count": 11,
     "metadata": {},
     "output_type": "execute_result"
    }
   ],
   "source": [
    "# part 1\n",
    "\n",
    "directions = {\n",
    "    '<': (-1, 0),\n",
    "    '>': (1, 0),\n",
    "    '^': (0, 1),\n",
    "    'v': (0, -1)\n",
    "}\n",
    "\n",
    "def visit_house(instruction):\n",
    "    \n",
    "        if instruction == '<':\n",
    "            x -= 1\n",
    "        elif instruction == '>':\n",
    "            x += 1\n",
    "        elif instruction == '^':\n",
    "            y += 1\n",
    "        elif instruction == 'v':\n",
    "            y -= 1\n",
    "        else:\n",
    "            print(f'unmatched character {instruction}')\n",
    "\n",
    "def visited_houses(instructions):\n",
    "    \n",
    "    position = (0, 0)\n",
    "    \n",
    "    visited = set()  # starting house\n",
    "    visited.add(position)\n",
    "\n",
    "    for instruction in instructions:\n",
    "        dx, dy = directions[instruction]\n",
    "        position = (position[0] + dx, position[1] + dy)\n",
    "        \n",
    "        visited.add(position)\n",
    "    \n",
    "    return visited\n",
    "\n",
    "len(visited_houses(day3))"
   ]
  },
  {
   "cell_type": "code",
   "execution_count": 12,
   "id": "social-preservation",
   "metadata": {},
   "outputs": [
    {
     "data": {
      "text/plain": [
       "2360"
      ]
     },
     "execution_count": 12,
     "metadata": {},
     "output_type": "execute_result"
    }
   ],
   "source": [
    "# part 2\n",
    "\n",
    "def parallel_visit(dataset: Dataset) -> set:\n",
    "    return visited_houses(dataset[0::2]).union(visited_houses(dataset[1::2]))\n",
    "\n",
    "len(parallel_visit(day3))"
   ]
  },
  {
   "cell_type": "markdown",
   "id": "veterinary-addition",
   "metadata": {},
   "source": [
    "## Day 4"
   ]
  },
  {
   "cell_type": "code",
   "execution_count": 13,
   "id": "delayed-pasta",
   "metadata": {},
   "outputs": [],
   "source": [
    "day4 = 'ckczppom'"
   ]
  },
  {
   "cell_type": "code",
   "execution_count": 14,
   "id": "surprised-boutique",
   "metadata": {},
   "outputs": [
    {
     "data": {
      "text/plain": [
       "117946"
      ]
     },
     "execution_count": 14,
     "metadata": {},
     "output_type": "execute_result"
    }
   ],
   "source": [
    "# part 1\n",
    "\n",
    "from hashlib import md5\n",
    "\n",
    "def hash_miner(key: str, zeros=5) -> int:\n",
    "\n",
    "    bkey = key.encode()\n",
    "    \n",
    "    def hash_for(number: int) -> str:\n",
    "        return md5(bkey + str(number).encode()).hexdigest()\n",
    "\n",
    "    match = ''.join(['0' for _ in range(zeros)])\n",
    "    \n",
    "    for current in itertools.count(0):\n",
    "        if hash_for(current)[:zeros] == match:\n",
    "            return current\n",
    "\n",
    "            \n",
    "hash_miner(day4)"
   ]
  },
  {
   "cell_type": "code",
   "execution_count": 15,
   "id": "verified-smooth",
   "metadata": {},
   "outputs": [
    {
     "data": {
      "text/plain": [
       "3938038"
      ]
     },
     "execution_count": 15,
     "metadata": {},
     "output_type": "execute_result"
    }
   ],
   "source": [
    "# part 2\n",
    "\n",
    "hash_miner(day4, zeros=6)"
   ]
  },
  {
   "cell_type": "markdown",
   "id": "musical-crest",
   "metadata": {},
   "source": [
    "## Day 5"
   ]
  },
  {
   "cell_type": "code",
   "execution_count": 16,
   "id": "mobile-surge",
   "metadata": {},
   "outputs": [
    {
     "data": {
      "text/plain": [
       "['zgsnvdmlfuplrubt',\n",
       " 'vlhagaovgqjmgvwq',\n",
       " 'ffumlmqwfcsyqpss',\n",
       " 'zztdcqzqddaazdjp',\n",
       " 'eavfzjajkjesnlsb']"
      ]
     },
     "execution_count": 16,
     "metadata": {},
     "output_type": "execute_result"
    }
   ],
   "source": [
    "# input parsing\n",
    "\n",
    "day5 = input_for(5)\n",
    "peek(day5)"
   ]
  },
  {
   "cell_type": "code",
   "execution_count": 17,
   "id": "timely-second",
   "metadata": {},
   "outputs": [
    {
     "data": {
      "text/plain": [
       "238"
      ]
     },
     "execution_count": 17,
     "metadata": {},
     "output_type": "execute_result"
    }
   ],
   "source": [
    "# part 1\n",
    "\n",
    "rules_1 = [  # all the rules must be satisfied\n",
    "    lambda s: len(list(filter(lambda c: c in 'aeiou', s))) >= 3,\n",
    "    lambda s: re.compile(r'(.)\\1').search(s) is not None,\n",
    "    lambda s: next(filter(lambda x: x, (a == b for a, b in list(zip(s,s[1:])))), False),\n",
    "    \n",
    "    lambda s: all_of(('ab', 'cd', 'pq', 'xy'), lambda x: x not in s)\n",
    "]\n",
    "\n",
    "def validate_string_1(input_value: str) -> bool:\n",
    "    return all_of(rules_1, lambda p: p(input_value))\n",
    "\n",
    "def validate_all(dataset: Dataset, rules) -> int:\n",
    "    return count(dataset, validate_string_1)\n",
    "\n",
    "validate_all(day5, rules_1)"
   ]
  },
  {
   "cell_type": "code",
   "execution_count": 18,
   "id": "straight-generation",
   "metadata": {},
   "outputs": [
    {
     "data": {
      "text/plain": [
       "69"
      ]
     },
     "execution_count": 18,
     "metadata": {},
     "output_type": "execute_result"
    }
   ],
   "source": [
    "# part 2\n",
    "\n",
    "rules_2 = [\n",
    "    lambda s: re.compile(r'(.)(.).*\\1\\2').search(s) is not None,\n",
    "    lambda s: re.compile(r'(.).\\1').search(s) is not None\n",
    "]\n",
    "\n",
    "def validate_string_2(input_value: str) -> bool:\n",
    "    return all_of(rules_2, lambda p: p(input_value))\n",
    "    \n",
    "def day5_2(dataset: Dataset) -> int:\n",
    "    return count(dataset, validate_string_2)\n",
    "    \n",
    "day5_2(day5)"
   ]
  },
  {
   "cell_type": "markdown",
   "id": "major-suffering",
   "metadata": {},
   "source": [
    "## Day 6"
   ]
  },
  {
   "cell_type": "code",
   "execution_count": 19,
   "id": "subsequent-immune",
   "metadata": {},
   "outputs": [
    {
     "data": {
      "text/plain": [
       "['turn on 489,959 through 759,964',\n",
       " 'turn off 820,516 through 871,914',\n",
       " 'turn off 427,423 through 929,502',\n",
       " 'turn on 774,14 through 977,877',\n",
       " 'turn on 410,146 through 864,337']"
      ]
     },
     "execution_count": 19,
     "metadata": {},
     "output_type": "execute_result"
    }
   ],
   "source": [
    "# input parsing\n",
    "\n",
    "day6 = input_for(6)\n",
    "peek(day6)"
   ]
  },
  {
   "cell_type": "code",
   "execution_count": 20,
   "id": "ecological-buying",
   "metadata": {},
   "outputs": [
    {
     "data": {
      "text/plain": [
       "569999"
      ]
     },
     "execution_count": 20,
     "metadata": {},
     "output_type": "execute_result"
    }
   ],
   "source": [
    "# part 1\n",
    "\n",
    "log_level = 0\n",
    "Point = tuple[int, int]\n",
    "\n",
    "def day6_1(instructions: Dataset) -> int:\n",
    "    \n",
    "    lights = {}\n",
    "    \n",
    "    def switch(action: string, start: Point, end: Point):\n",
    "        log(f'action {action} from {start} through {end}', 1)\n",
    "        for x in range(int(start[0]), int(end[0]) + 1):\n",
    "            for y in range(int(start[1]), int(end[1]) + 1):\n",
    "                if action == 'on':\n",
    "                    turn_on(x, y)\n",
    "                elif action == 'off':\n",
    "                    turn_off(x, y)\n",
    "                elif action == 'toggle':\n",
    "                    toggle(x, y)\n",
    "\n",
    "    def turn_on(x: int, y: int):\n",
    "        lights[x, y] = True\n",
    "\n",
    "    def turn_off(x: int, y: int):\n",
    "        if (x, y) in lights:\n",
    "            del lights[x, y]\n",
    "    \n",
    "    def toggle(x: int, y: int):\n",
    "        if (x, y) in lights:\n",
    "            turn_off(x, y)\n",
    "        else:\n",
    "            turn_on(x, y)\n",
    "    \n",
    "    \n",
    "    def parse_instruction(instruction: str):\n",
    "        tokens = instruction.split()\n",
    "        if tokens[0] == 'toggle': switch('toggle', tokens[1].split(','), tokens[3].split(','))\n",
    "        elif tokens[1] == 'on': switch('on', tokens[2].split(','), tokens[4].split(','))\n",
    "        elif tokens[1] == 'off': switch('off', tokens[2].split(','), tokens[4].split(','))\n",
    "        else: print(f'error parsing command: {instruction}')\n",
    "#         print(tokens)\n",
    "    \n",
    "    for instruction in instructions:\n",
    "        parse_instruction(instruction)\n",
    "        log(f'{len(lights)} lights are on', 1)\n",
    "        \n",
    "    return len(lights)\n",
    "\n",
    "day6_1(day6)\n",
    "# list(map(lambda line: line.split(' ')[:2], day6))"
   ]
  },
  {
   "cell_type": "code",
   "execution_count": 21,
   "id": "beneficial-massachusetts",
   "metadata": {},
   "outputs": [
    {
     "data": {
      "text/plain": [
       "17836115"
      ]
     },
     "execution_count": 21,
     "metadata": {},
     "output_type": "execute_result"
    }
   ],
   "source": [
    "# part 2\n",
    "\n",
    "def day6_2(instructions: Dataset) -> int:\n",
    "    \n",
    "    lights = {}\n",
    "    \n",
    "    def switch(action: string, start: Point, end: Point):\n",
    "        log(f'action {action} from {start} through {end}', 1)\n",
    "        for x in range(int(start[0]), int(end[0]) + 1):\n",
    "            for y in range(int(start[1]), int(end[1]) + 1):\n",
    "                if action == 'on':\n",
    "                    turn_on(x, y)\n",
    "                elif action == 'off':\n",
    "                    turn_off(x, y)\n",
    "                elif action == 'toggle':\n",
    "                    toggle(x, y)\n",
    "\n",
    "    def turn_on(x: int, y: int):\n",
    "        lights[x, y] = lights.get((x, y), 0) + 1\n",
    "\n",
    "    def turn_off(x: int, y: int):\n",
    "        lights[x, y] = max(0, lights.get((x, y), 0) - 1)\n",
    "\n",
    "    def toggle(x: int, y: int):\n",
    "        lights[x, y] = lights.get((x, y), 0) + 2\n",
    "    \n",
    "    \n",
    "    def parse_instruction(instruction: str):\n",
    "        tokens = instruction.split()\n",
    "        if tokens[0] == 'toggle': switch('toggle', tokens[1].split(','), tokens[3].split(','))\n",
    "        elif tokens[1] == 'on': switch('on', tokens[2].split(','), tokens[4].split(','))\n",
    "        elif tokens[1] == 'off': switch('off', tokens[2].split(','), tokens[4].split(','))\n",
    "        else: print(f'error parsing command: {instruction}')\n",
    "    \n",
    "    for instruction in instructions:\n",
    "        parse_instruction(instruction)\n",
    "        log(f'{len(lights)} lights are on', 1)\n",
    "        \n",
    "    return sum(lights.values())\n",
    "\n",
    "day6_2(day6)"
   ]
  }
 ],
 "metadata": {
  "kernelspec": {
   "display_name": "Python 3",
   "language": "python",
   "name": "python3"
  },
  "language_info": {
   "codemirror_mode": {
    "name": "ipython",
    "version": 3
   },
   "file_extension": ".py",
   "mimetype": "text/x-python",
   "name": "python",
   "nbconvert_exporter": "python",
   "pygments_lexer": "ipython3",
   "version": "3.9.1"
  }
 },
 "nbformat": 4,
 "nbformat_minor": 5
}
