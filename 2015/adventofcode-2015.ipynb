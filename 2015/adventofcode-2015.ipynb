{
 "cells": [
  {
   "cell_type": "code",
   "execution_count": 1,
   "id": "digital-creature",
   "metadata": {},
   "outputs": [],
   "source": [
    "import itertools\n",
    "\n",
    "from __future__ import annotations"
   ]
  },
  {
   "cell_type": "markdown",
   "id": "limiting-street",
   "metadata": {},
   "source": [
    "## Utils"
   ]
  },
  {
   "cell_type": "code",
   "execution_count": 2,
   "id": "tested-empty",
   "metadata": {},
   "outputs": [],
   "source": [
    "# custom types\n",
    "Char = str\n",
    "Dataset = list[str]"
   ]
  },
  {
   "cell_type": "code",
   "execution_count": 34,
   "id": "square-traveler",
   "metadata": {},
   "outputs": [],
   "source": [
    "input_dir = 'input/'\n",
    "    \n",
    "def input_for(day: int) -> Dataset:\n",
    "    try:\n",
    "        with(open(f'input/day-{day}.txt', 'r') as file):\n",
    "            return [line.strip() for line in file ]\n",
    "    except FileNotFoundError as e:\n",
    "        print(f\"Input file for day {day} not found\")\n",
    "        \n",
    "\n",
    "def peek(dataset: Dataset, size: int = 5) -> Dataset:\n",
    "    if len(dataset) > 1:\n",
    "        return dataset[:size]\n",
    "    if len(dataset) == 1:\n",
    "        return dataset[0][:size]\n",
    "    else:\n",
    "        []"
   ]
  },
  {
   "cell_type": "markdown",
   "id": "lesser-amateur",
   "metadata": {},
   "source": [
    "## Day 1"
   ]
  },
  {
   "cell_type": "code",
   "execution_count": 4,
   "id": "authorized-webcam",
   "metadata": {},
   "outputs": [
    {
     "data": {
      "text/plain": [
       "'()()('"
      ]
     },
     "execution_count": 4,
     "metadata": {},
     "output_type": "execute_result"
    }
   ],
   "source": [
    "# input parsing\n",
    "\n",
    "day1 = input_for(1)[0]\n",
    "peek(day1)"
   ]
  },
  {
   "cell_type": "code",
   "execution_count": 5,
   "id": "developing-agency",
   "metadata": {},
   "outputs": [
    {
     "data": {
      "text/plain": [
       "280"
      ]
     },
     "execution_count": 5,
     "metadata": {},
     "output_type": "execute_result"
    }
   ],
   "source": [
    "# part 1\n",
    "\n",
    "def find_floor(input: list[str]) -> int:\n",
    "    floor = 0\n",
    "    for each in input:\n",
    "        if each == '(':\n",
    "            floor += 1\n",
    "        elif each == ')':\n",
    "            floor -= 1\n",
    "        else:\n",
    "            print('unknown character ' + each)\n",
    "    return floor\n",
    "\n",
    "find_floor(day1)"
   ]
  },
  {
   "cell_type": "code",
   "execution_count": 6,
   "id": "victorian-forestry",
   "metadata": {},
   "outputs": [
    {
     "data": {
      "text/plain": [
       "1797"
      ]
     },
     "execution_count": 6,
     "metadata": {},
     "output_type": "execute_result"
    }
   ],
   "source": [
    "# part 2\n",
    "\n",
    "def find_basement(input: list[str]) -> int:\n",
    "    floor = 0\n",
    "    for index, each in enumerate(input):\n",
    "        if each == '(': floor += 1\n",
    "        elif each == ')': floor -= 1\n",
    "        else: print('unknown character ' + each)\n",
    "        if floor == -1:\n",
    "            return index + 1\n",
    "\n",
    "find_basement(day1)"
   ]
  },
  {
   "cell_type": "markdown",
   "id": "focal-spanish",
   "metadata": {},
   "source": [
    "## Day 2"
   ]
  },
  {
   "cell_type": "code",
   "execution_count": 7,
   "id": "virtual-phenomenon",
   "metadata": {},
   "outputs": [
    {
     "data": {
      "text/plain": [
       "[[20, 3, 11], [15, 27, 5], [6, 29, 7], [30, 15, 9], [19, 29, 21]]"
      ]
     },
     "execution_count": 7,
     "metadata": {},
     "output_type": "execute_result"
    }
   ],
   "source": [
    "# input parsing\n",
    "\n",
    "def parse_line(line: str) -> (int, int, int):\n",
    "    return [int(each) for each in line.split('x')]\n",
    "\n",
    "day2 = [parse_line(line) for line in input_for(2)]\n",
    "peek(day2)"
   ]
  },
  {
   "cell_type": "code",
   "execution_count": 8,
   "id": "inner-eight",
   "metadata": {},
   "outputs": [
    {
     "data": {
      "text/plain": [
       "1606483"
      ]
     },
     "execution_count": 8,
     "metadata": {},
     "output_type": "execute_result"
    }
   ],
   "source": [
    "# part 1\n",
    "\n",
    "def needed_wrap_for(dimensions: (int, int, int)) -> int:\n",
    "    areas = [first * second for (first, second) in itertools.combinations(dimensions, 2)]\n",
    "    return min(areas) + 2 * sum(areas)\n",
    "\n",
    "def needed_wrap_for_all(input_dataset: list[(int, int, int)]):\n",
    "    return sum(map(needed_wrap_for, input_dataset))\n",
    "\n",
    "needed_wrap_for_all(day2)"
   ]
  },
  {
   "cell_type": "code",
   "execution_count": 33,
   "id": "turned-wound",
   "metadata": {},
   "outputs": [
    {
     "data": {
      "text/plain": [
       "3842356"
      ]
     },
     "execution_count": 33,
     "metadata": {},
     "output_type": "execute_result"
    }
   ],
   "source": [
    "# part 2\n",
    "\n",
    "def ribbon_length(sizes: (int, int, int)) -> int:\n",
    "    return sum(sorted(sizes)[:2]) * 2\n",
    "\n",
    "def bow_length(sizes: (int, int, int)) -> int:\n",
    "    return sizes[0] * sizes[1] * sizes[2]\n",
    "\n",
    "def ribbon_for_package(sizes: (int, int, int)) -> int:\n",
    "    return ribbon_length(sizes) + bow_length(sizes)\n",
    "\n",
    "def ribbon_for_all_packages(sizes: list[(int, int, int)]) -> int:\n",
    "    return sum(map(ribbon_for_package, sizes))\n",
    "\n",
    "ribbon_for_all_packages(day2)"
   ]
  },
  {
   "cell_type": "markdown",
   "id": "expected-thong",
   "metadata": {},
   "source": [
    "## Day 3"
   ]
  },
  {
   "cell_type": "code",
   "execution_count": 26,
   "id": "serial-blowing",
   "metadata": {},
   "outputs": [
    {
     "data": {
      "text/plain": [
       "'>^^v^'"
      ]
     },
     "execution_count": 26,
     "metadata": {},
     "output_type": "execute_result"
    }
   ],
   "source": [
    "# input parsing\n",
    "\n",
    "day3 = input_for(3)[0]\n",
    "peek(day3)"
   ]
  },
  {
   "cell_type": "code",
   "execution_count": 76,
   "id": "statutory-simple",
   "metadata": {},
   "outputs": [
    {
     "data": {
      "text/plain": [
       "2592"
      ]
     },
     "execution_count": 76,
     "metadata": {},
     "output_type": "execute_result"
    }
   ],
   "source": [
    "# part 1\n",
    "\n",
    "directions = {\n",
    "    '<': (-1, 0),\n",
    "    '>': (1, 0),\n",
    "    '^': (0, 1),\n",
    "    'v': (0, -1)\n",
    "}\n",
    "\n",
    "def visit_house(instruction):\n",
    "    \n",
    "        if instruction == '<':\n",
    "            x -= 1\n",
    "        elif instruction == '>':\n",
    "            x += 1\n",
    "        elif instruction == '^':\n",
    "            y += 1\n",
    "        elif instruction == 'v':\n",
    "            y -= 1\n",
    "        else:\n",
    "            print(f'unmatched character {instruction}')\n",
    "\n",
    "def visited_houses(instructions):\n",
    "    \n",
    "    position = (0, 0)\n",
    "    \n",
    "    visited = set()  # starting house\n",
    "    visited.add(position)\n",
    "\n",
    "    for instruction in instructions:\n",
    "        dx, dy = directions[instruction]\n",
    "        position = (position[0] + dx, position[1] + dy)\n",
    "        \n",
    "        visited.add(position)\n",
    "    \n",
    "    return visited\n",
    "\n",
    "len(visited_houses(day3))"
   ]
  },
  {
   "cell_type": "code",
   "execution_count": 78,
   "id": "individual-single",
   "metadata": {},
   "outputs": [
    {
     "data": {
      "text/plain": [
       "2360"
      ]
     },
     "execution_count": 78,
     "metadata": {},
     "output_type": "execute_result"
    }
   ],
   "source": [
    "# part 2\n",
    "\n",
    "def parallel_visit(dataset: Dataset) -> set:\n",
    "    return visited_houses(dataset[0::2]).union(visited_houses(dataset[1::2]))\n",
    "\n",
    "len(parallel_visit(day3))"
   ]
  },
  {
   "cell_type": "markdown",
   "id": "adopted-region",
   "metadata": {},
   "source": [
    "## Day 4"
   ]
  },
  {
   "cell_type": "code",
   "execution_count": 1,
   "id": "acknowledged-omaha",
   "metadata": {},
   "outputs": [],
   "source": [
    "input = 'ckczppom'"
   ]
  },
  {
   "cell_type": "code",
   "execution_count": 98,
   "id": "decreased-representative",
   "metadata": {},
   "outputs": [
    {
     "name": "stdout",
     "output_type": "stream",
     "text": [
      "609043\n"
     ]
    },
    {
     "data": {
      "text/plain": [
       "117946"
      ]
     },
     "execution_count": 98,
     "metadata": {},
     "output_type": "execute_result"
    }
   ],
   "source": [
    "# part 1\n",
    "\n",
    "from hashlib import md5\n",
    "\n",
    "def hash_miner(key: str, zeros=5) -> int:\n",
    "\n",
    "    bkey = key.encode()\n",
    "    \n",
    "    def hash_for(number: int) -> str:\n",
    "        return md5(bkey + str(number).encode()).hexdigest()\n",
    "\n",
    "    match = ''.join(['0' for _ in range(zeros)])\n",
    "\n",
    "    current = 0\n",
    "    \n",
    "    while True:\n",
    "        if hash_for(current)[:zeros] == match:\n",
    "            return current\n",
    "        else:\n",
    "            current += 1\n",
    "\n",
    "            \n",
    "    \n",
    "print(hash_miner('abcdef'))\n",
    "hash_miner(input)"
   ]
  },
  {
   "cell_type": "code",
   "execution_count": 99,
   "id": "broke-duration",
   "metadata": {},
   "outputs": [
    {
     "data": {
      "text/plain": [
       "3938038"
      ]
     },
     "execution_count": 99,
     "metadata": {},
     "output_type": "execute_result"
    }
   ],
   "source": [
    "# part 2\n",
    "\n",
    "hash_miner(input, zeros=6)"
   ]
  }
 ],
 "metadata": {
  "kernelspec": {
   "display_name": "Python 3",
   "language": "python",
   "name": "python3"
  },
  "language_info": {
   "codemirror_mode": {
    "name": "ipython",
    "version": 3
   },
   "file_extension": ".py",
   "mimetype": "text/x-python",
   "name": "python",
   "nbconvert_exporter": "python",
   "pygments_lexer": "ipython3",
   "version": "3.9.1"
  }
 },
 "nbformat": 4,
 "nbformat_minor": 5
}
